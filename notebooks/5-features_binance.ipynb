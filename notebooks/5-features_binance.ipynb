{
 "cells": [
  {
   "cell_type": "markdown",
   "id": "6788c063",
   "metadata": {},
   "source": [
    "# **<div align=\"center\">ADVANCE FEATURE ENGINEERING FOR BINANCE COIN </div>**"
   ]
  },
  {
   "cell_type": "code",
   "execution_count": 5,
   "id": "d01bc1bf",
   "metadata": {},
   "outputs": [],
   "source": [
    "import pandas as pd\n",
    "import numpy as np"
   ]
  },
  {
   "cell_type": "code",
   "execution_count": 6,
   "id": "708ebee4",
   "metadata": {},
   "outputs": [
    {
     "ename": "AttributeError",
     "evalue": "module 'pandas' has no attribute 'Serie'",
     "output_type": "error",
     "traceback": [
      "\u001b[31m---------------------------------------------------------------------------\u001b[39m",
      "\u001b[31mAttributeError\u001b[39m                            Traceback (most recent call last)",
      "\u001b[36mCell\u001b[39m\u001b[36m \u001b[39m\u001b[32mIn[6]\u001b[39m\u001b[32m, line 1\u001b[39m\n\u001b[32m----> \u001b[39m\u001b[32m1\u001b[39m \u001b[38;5;28;01mdef\u001b[39;00m\u001b[38;5;250m \u001b[39m\u001b[34mcompute_RSI\u001b[39m(series:\u001b[43mpd\u001b[49m\u001b[43m.\u001b[49m\u001b[43mSerie\u001b[49m, window:\u001b[38;5;28mint\u001b[39m = \u001b[32m14\u001b[39m) -> pd.Serie:\n\u001b[32m      3\u001b[39m \u001b[38;5;250m    \u001b[39m\u001b[33;03m'''\u001b[39;00m\n\u001b[32m      4\u001b[39m \u001b[33;03m    Calculate the Relative Strenght Index (RSI) for a price series in a temporal windows.\u001b[39;00m\n\u001b[32m      5\u001b[39m \n\u001b[32m   (...)\u001b[39m\u001b[32m     11\u001b[39m \u001b[33;03m        - rsi: Relative Strength Index series\u001b[39;00m\n\u001b[32m     12\u001b[39m \u001b[33;03m    '''\u001b[39;00m\n\u001b[32m     13\u001b[39m     \u001b[38;5;66;03m# Calculate price differences between consecutive periods\u001b[39;00m\n",
      "\u001b[31mAttributeError\u001b[39m: module 'pandas' has no attribute 'Serie'"
     ]
    }
   ],
   "source": [
    "def compute_RSI(series:pd.Serie, window:int = 14) -> pd.Serie:\n",
    "    \n",
    "    '''\n",
    "    Calculate the Relative Strenght Index (RSI) for a price series in a temporal windows.\n",
    "\n",
    "    Parameters:\n",
    "        - series: price temporal series\n",
    "        - wondows: the windows size. Default is 14 days, which is typical for this indicator \n",
    "\n",
    "    Returns:\n",
    "        - rsi: Relative Strength Index series\n",
    "    '''\n",
    "    # Calculate price differences between consecutive periods\n",
    "    delta = series.diff()\n",
    "    gain = delta.clip(lower=0)\n",
    "    loss = -delta.clip(upper=0)\n",
    "\n",
    "    # Calculate rolling averages of gains and losses over the window\n",
    "    avg_gain = gain.rolling(window=window).mean()\n",
    "    avg_loss = loss.rolling(window=window).mean()\n",
    "\n",
    "    #Calculate RS (Relative Strengh)\n",
    "    rs = avg_gain / avg_loss\n",
    "\n",
    "    # Calculate RSI\n",
    "    rsi = 100 - (100 / (1 + rs))\n",
    "\n",
    "    return rsi"
   ]
  },
  {
   "cell_type": "code",
   "execution_count": 4,
   "id": "bacce53e",
   "metadata": {},
   "outputs": [
    {
     "ename": "NameError",
     "evalue": "name 'pd' is not defined",
     "output_type": "error",
     "traceback": [
      "\u001b[31m---------------------------------------------------------------------------\u001b[39m",
      "\u001b[31mNameError\u001b[39m                                 Traceback (most recent call last)",
      "\u001b[36mCell\u001b[39m\u001b[36m \u001b[39m\u001b[32mIn[4]\u001b[39m\u001b[32m, line 1\u001b[39m\n\u001b[32m----> \u001b[39m\u001b[32m1\u001b[39m \u001b[38;5;28;01mdef\u001b[39;00m\u001b[38;5;250m \u001b[39m\u001b[34mcompute_MACD\u001b[39m(series: \u001b[43mpd\u001b[49m.Series, fast: \u001b[38;5;28mint\u001b[39m = \u001b[32m12\u001b[39m, slow: \u001b[38;5;28mint\u001b[39m = \u001b[32m26\u001b[39m, \n\u001b[32m      2\u001b[39m                  signal: \u001b[38;5;28mint\u001b[39m = \u001b[32m9\u001b[39m) -> \u001b[38;5;28mtuple\u001b[39m[pd.Series, pd.Series, pd.Series]:\n\u001b[32m      4\u001b[39m \u001b[38;5;250m    \u001b[39m\u001b[33;03m'''\u001b[39;00m\n\u001b[32m      5\u001b[39m \u001b[33;03m    Calculate the Moving Average Convergence Divergence (MACD), between two rolling exponential averages (EMA)\u001b[39;00m\n\u001b[32m      6\u001b[39m \u001b[33;03m    from two different periods\u001b[39;00m\n\u001b[32m   (...)\u001b[39m\u001b[32m     17\u001b[39m \u001b[33;03m        - hist: MACD histogram\u001b[39;00m\n\u001b[32m     18\u001b[39m \u001b[33;03m    '''\u001b[39;00m\n\u001b[32m     20\u001b[39m     \u001b[38;5;66;03m# Calculate the fast and slow exponential moving averages (EMA)\u001b[39;00m\n",
      "\u001b[31mNameError\u001b[39m: name 'pd' is not defined"
     ]
    }
   ],
   "source": [
    "def compute_MACD(series: pd.Series, fast: int = 12, slow: int = 26, \n",
    "                 signal: int = 9) -> tuple[pd.Series, pd.Series, pd.Series]:\n",
    "\n",
    "    '''\n",
    "    Calculate the Moving Average Convergence Divergence (MACD), between two rolling exponential averages (EMA)\n",
    "    from two different periods\n",
    "\n",
    "    Parameters:\n",
    "        - series: price temporal series\n",
    "        - fast: period of the fastest EMA (more sensitive). Detect recent changes. By default 12\n",
    "        - slow: period of the slowest EMA (less sensitive). Detect genral tendency. By default 26\n",
    "        - signal: period of the EMA of signal line to smooth MACD\n",
    "\n",
    "    Returns:\n",
    "        - macd: MACD line \n",
    "        - signal_line: EMA of the MACD line\n",
    "        - hist: MACD histogram\n",
    "    '''\n",
    "    \n",
    "    # Calculate the fast and slow exponential moving averages (EMA)\n",
    "    ema_fast = series.ewm(span=fast, adjust=False).mean()\n",
    "    ema_slow = series.ewm(span=slow, adjust=False).mean()\n",
    "\n",
    "    # Calculate MACD line\n",
    "    macd = ema_fast - ema_slow\n",
    "\n",
    "    # Calculate signal line as EMA of the MACD line\n",
    "    signal_line = macd.ewm(span=signal, adjust=False).mean()\n",
    "    \n",
    "    # Calculate histogram\n",
    "    hist = macd - signal_line\n",
    "\n",
    "    return macd, signal_line, hist"
   ]
  },
  {
   "cell_type": "code",
   "execution_count": 3,
   "id": "bac2aa33",
   "metadata": {},
   "outputs": [],
   "source": [
    "def compute_Bollinger_Bands(series, window=20, n_std=2):\n",
    "    \"\"\"Bollinger Bands\"\"\"\n",
    "    sma = series.rolling(window=window).mean()\n",
    "    std = series.rolling(window=window).std()\n",
    "    upper = sma + n_std * std\n",
    "    lower = sma - n_std * std\n",
    "    return upper, lower"
   ]
  },
  {
   "cell_type": "code",
   "execution_count": null,
   "id": "a02aba59",
   "metadata": {},
   "outputs": [],
   "source": [
    "def make_features(df: pd.DataFrame, price_col='price_usd', volume_col='volume', market_cap_col='market_cap'):\n",
    "    \"\"\"\n",
    "    Crea features avanzados para series temporales de criptomonedas.\n",
    "    \"\"\"\n",
    "    df = df.copy()\n",
    "    df = df.sort_index()  # asegurarse de orden temporal\n",
    "    \n",
    "    # ========================\n",
    "    # 1️⃣ Lags y retornos\n",
    "    # ========================\n",
    "    for lag in [1,2,3,7,14]:\n",
    "        df[f'{price_col}_lag{lag}'] = df[price_col].shift(lag)\n",
    "        df[f'{volume_col}_lag{lag}'] = df[volume_col].shift(lag)\n",
    "        df[f'{market_cap_col}_lag{lag}'] = df[market_cap_col].shift(lag)\n",
    "    \n",
    "    # Retornos (ya lo tenías, pero recalculamos por seguridad)\n",
    "    df['returns'] = df[price_col].pct_change() * 100\n",
    "    df['volatility_7d'] = df['returns'].rolling(7).std()\n",
    "    df['volatility_14d'] = df['returns'].rolling(14).std()\n",
    "    df['returns_rolling_mean_7d'] = df['returns'].rolling(7).mean()\n",
    "    \n",
    "    # ========================\n",
    "    # 2️⃣ Rolling windows\n",
    "    # ========================\n",
    "    for window in [7,14,30]:\n",
    "        df[f'{price_col}_sma{window}'] = df[price_col].rolling(window).mean()\n",
    "        df[f'{price_col}_std{window}'] = df[price_col].rolling(window).std()\n",
    "        df[f'{volume_col}_sma{window}'] = df[volume_col].rolling(window).mean()\n",
    "        df[f'{market_cap_col}_sma{window}'] = df[market_cap_col].rolling(window).mean()\n",
    "    \n",
    "    # ========================\n",
    "    # 3️⃣ Indicadores técnicos\n",
    "    # ========================\n",
    "    df['RSI_14'] = compute_RSI(df[price_col], window=14)\n",
    "    macd, signal_line, hist = compute_MACD(df[price_col])\n",
    "    df['MACD'] = macd\n",
    "    df['MACD_signal'] = signal_line\n",
    "    df['MACD_hist'] = hist\n",
    "    df['Bollinger_upper'], df['Bollinger_lower'] = compute_Bollinger_Bands(df[price_col])\n",
    "    \n",
    "    # ========================\n",
    "    # 4️⃣ Features de calendario\n",
    "    # ========================\n",
    "    df['day_of_week'] = df.index.dayofweek  # lunes=0, domingo=6\n",
    "    df['month'] = df.index.month\n",
    "    df['quarter'] = df.index.quarter\n",
    "    \n",
    "    # ========================\n",
    "    # 5️⃣ Limpieza de NAs por shifts y rolling\n",
    "    # ========================\n",
    "    df = df.dropna().reset_index(drop=False)\n",
    "    \n",
    "    return df\n"
   ]
  }
 ],
 "metadata": {
  "kernelspec": {
   "display_name": "venv",
   "language": "python",
   "name": "python3"
  },
  "language_info": {
   "codemirror_mode": {
    "name": "ipython",
    "version": 3
   },
   "file_extension": ".py",
   "mimetype": "text/x-python",
   "name": "python",
   "nbconvert_exporter": "python",
   "pygments_lexer": "ipython3",
   "version": "3.12.6"
  }
 },
 "nbformat": 4,
 "nbformat_minor": 5
}
