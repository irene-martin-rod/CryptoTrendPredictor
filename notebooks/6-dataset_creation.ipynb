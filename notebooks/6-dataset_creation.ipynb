{
 "cells": [
  {
   "cell_type": "markdown",
   "id": "9a387048",
   "metadata": {},
   "source": [
    "# **<div align=\"center\">DATASETS CREATION AND SPLIT </div>**"
   ]
  },
  {
   "cell_type": "code",
   "execution_count": 1,
   "id": "0292991e",
   "metadata": {},
   "outputs": [],
   "source": [
    "import pandas as pd\n",
    "from sklearn.model_selection import train_test_split"
   ]
  },
  {
   "cell_type": "code",
   "execution_count": 7,
   "id": "ee06898b",
   "metadata": {},
   "outputs": [],
   "source": [
    "def export_dataset(df: pd.DataFrame, path: str, include_index: bool = False) -> None:\n",
    "\n",
    "    '''\n",
    "    Export the DataFrame to a CSV file.\n",
    "\n",
    "    Parameters:\n",
    "    df (pd.DataFrame): The DataFrame to export.\n",
    "    path (str): The file path where to save the CSV.\n",
    "    include_index (bool): Whether to include the index in the CSV file (default False).\n",
    "\n",
    "    Returns:\n",
    "    None: This function prints status messages but does not return a value.\n",
    "    '''\n",
    "    \n",
    "    if not isinstance(path, str):\n",
    "        raise ValueError(\"The path must be a string.\")\n",
    "\n",
    "    try:\n",
    "        df.to_csv(path, index=include_index)\n",
    "        print(f\"Data exported successfully to {path}\")\n",
    "    except Exception as e:\n",
    "        print(f\"Error exporting data: {e}\")"
   ]
  },
  {
   "cell_type": "markdown",
   "id": "aaaf573f",
   "metadata": {},
   "source": [
    "## **Load data**"
   ]
  },
  {
   "cell_type": "code",
   "execution_count": 2,
   "id": "ac3ea9ff",
   "metadata": {},
   "outputs": [],
   "source": [
    "binance_features = pd.read_csv(\"../data/processed/binance_features.csv\", index_col=0, parse_dates=['date'])\n",
    "binance_features = binance_features.sort_index()"
   ]
  },
  {
   "cell_type": "markdown",
   "id": "a07c472b",
   "metadata": {},
   "source": [
    "## **Datasets creations**"
   ]
  },
  {
   "cell_type": "markdown",
   "id": "a4a53a66",
   "metadata": {},
   "source": [
    "### **Dataset 1: Price predictions (ARIMA, Prophet, LSTM, etc.)**"
   ]
  },
  {
   "cell_type": "code",
   "execution_count": 4,
   "id": "a8300800",
   "metadata": {},
   "outputs": [
    {
     "name": "stdout",
     "output_type": "stream",
     "text": [
      "Dataset PRICE prepared:\n",
      "Train: (66, 46), Test: (17, 46)\n"
     ]
    }
   ],
   "source": [
    "binance_price = binance_features.copy()\n",
    "binance_price['target_price'] = binance_price['price_usd'].shift(-1)\n",
    "binance_price = binance_price.dropna(subset=['target_price'])\n",
    "\n",
    "split_idx = int(len(binance_price) * 0.8)\n",
    "train_price = binance_price.iloc[:split_idx]\n",
    "test_price = binance_price.iloc[split_idx:]\n",
    "\n",
    "print(\"Dataset PRICE prepared:\")\n",
    "print(f\"Train: {train_price.shape}, Test: {test_price.shape}\")"
   ]
  },
  {
   "cell_type": "markdown",
   "id": "e2d6c27e",
   "metadata": {},
   "source": [
    "### **Dataset 2: Returns prediction (ML and DL)**"
   ]
  },
  {
   "cell_type": "code",
   "execution_count": 5,
   "id": "4acb7fac",
   "metadata": {},
   "outputs": [
    {
     "name": "stdout",
     "output_type": "stream",
     "text": [
      "Dataset RETURNS prepared:\n",
      "Train: (66, 47), Test: (17, 47)\n"
     ]
    }
   ],
   "source": [
    "binance_returns = binance_features.copy()\n",
    "binance_returns['target_return'] = binance_returns['returns'].shift(-1)\n",
    "binance_returns = binance_returns.dropna(subset=['target_return'])\n",
    "\n",
    "# También creamos versión de clasificación (sube/baja)\n",
    "binance_returns['target_class'] = (binance_returns['target_return'] > 0).astype(int)\n",
    "\n",
    "# División temporal 80/20\n",
    "split_idx = int(len(binance_returns) * 0.8)\n",
    "train_returns = binance_returns.iloc[:split_idx]\n",
    "test_returns = binance_returns.iloc[split_idx:]\n",
    "\n",
    "print(\"Dataset RETURNS prepared:\")\n",
    "print(f\"Train: {train_returns.shape}, Test: {test_returns.shape}\")"
   ]
  },
  {
   "cell_type": "markdown",
   "id": "84683f23",
   "metadata": {},
   "source": [
    "## **Export datasets**"
   ]
  },
  {
   "cell_type": "code",
   "execution_count": 9,
   "id": "0037bced",
   "metadata": {},
   "outputs": [
    {
     "name": "stdout",
     "output_type": "stream",
     "text": [
      "Data exported successfully to ../data/processed/binance_target_price.csv\n",
      "Data exported successfully to ../data/processed/binance_target_returns.csv\n",
      "Data exported successfully to ../data/processed/binance_train_price.csv\n",
      "Data exported successfully to ../data/processed/binance_test_price.csv\n",
      "Data exported successfully to ../data/processed/binance_train_returns.csv\n",
      "Data exported successfully to ../data/processed/binance_test_returns.csv\n"
     ]
    }
   ],
   "source": [
    "export_dataset(binance_price, \"../data/processed/binance_target_price.csv\")\n",
    "export_dataset(binance_returns, \"../data/processed/binance_target_returns.csv\")\n",
    "export_dataset(train_price, \"../data/processed/binance_train_price.csv\")\n",
    "export_dataset(test_price, \"../data/processed/binance_test_price.csv\")\n",
    "export_dataset(train_returns, \"../data/processed/binance_train_returns.csv\")\n",
    "export_dataset(test_returns, \"../data/processed/binance_test_returns.csv\")"
   ]
  }
 ],
 "metadata": {
  "kernelspec": {
   "display_name": "venv",
   "language": "python",
   "name": "python3"
  },
  "language_info": {
   "codemirror_mode": {
    "name": "ipython",
    "version": 3
   },
   "file_extension": ".py",
   "mimetype": "text/x-python",
   "name": "python",
   "nbconvert_exporter": "python",
   "pygments_lexer": "ipython3",
   "version": "3.12.6"
  }
 },
 "nbformat": 4,
 "nbformat_minor": 5
}
