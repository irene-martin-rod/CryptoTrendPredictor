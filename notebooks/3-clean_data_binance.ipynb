{
 "cells": [
  {
   "cell_type": "markdown",
   "id": "ded7f596",
   "metadata": {},
   "source": [
    "# **<div align=\"center\">CLEAN BINANCE COIN DATA</div>**"
   ]
  },
  {
   "cell_type": "code",
   "execution_count": null,
   "id": "30c00f06",
   "metadata": {},
   "outputs": [],
   "source": [
    "import numpy as np\n",
    "import pandas as pd"
   ]
  },
  {
   "cell_type": "code",
   "execution_count": 2,
   "id": "55376ccb",
   "metadata": {},
   "outputs": [],
   "source": [
    "def fill_missing_prices(df: pd.DataFrame):\n",
    "\n",
    "    '''\n",
    "    Fill NA in price_usd if there is a price_use and change values the next day\n",
    "\n",
    "    Parameters:\n",
    "    df (pd.DataFrame): A DataFrame\n",
    "\n",
    "    Returns:\n",
    "    pd.DataFrame: A dataframe without the colums\n",
    "    '''\n",
    "\n",
    "    # Check that date column is a datetime and it is sortes\n",
    "    df = df.copy()\n",
    "    df['date'] = pd.to_datetime(df['date'])\n",
    "    df = df.sort_values('date').reset_index(drop=True)\n",
    "    \n",
    "    # Iterates over rows with null values in price_usd\n",
    "    for i in range(len(df) - 1):\n",
    "        if pd.isna(df.loc[i, 'price_usd']):\n",
    "            next_day_price = df.loc[i + 1, 'price_usd']\n",
    "            next_day_change = df.loc[i + 1, 'change']\n",
    "            # Check if the calculation is possible\n",
    "            if not pd.isna(next_day_price) and not pd.isna(next_day_change):\n",
    "                # Calculation: price_t-1 = price_t / (1 + change_t / 100)\n",
    "                df.loc[i, 'price_usd'] = next_day_price / (1 + next_day_change / 100)\n",
    "\n",
    "    return df\n"
   ]
  },
  {
   "cell_type": "code",
   "execution_count": 3,
   "id": "5f83991b",
   "metadata": {},
   "outputs": [],
   "source": [
    "def full_rest_variables(df: pd.DataFrame):\n",
    "\n",
    "    '''\n",
    "    Impute NAs using values of previous days.\n",
    "\n",
    "    Parameters:\n",
    "    df (pd.DataFrame): A DataFrame\n",
    "\n",
    "    Returns:\n",
    "    pd.DataFrame: A dataframe without the columns\n",
    "    '''\n",
    "    df = df.sort_values(\"date\").reset_index(drop=True)\n",
    "\n",
    "    # Impute values\n",
    "    features_to_fill = df.columns.difference([\"date\", \"price_usd\", \"change\"])\n",
    "    df[features_to_fill] = df[features_to_fill].ffill()\n",
    "\n",
    "    #Drop change variable and the rest of data with NA to avoid impute with fabricated data the target\n",
    "    df = df.drop(columns=[\"change\"])\n",
    "    df = df.dropna(subset=[\"price_usd\"]).reset_index(drop=True)\n",
    "\n",
    "    return df"
   ]
  },
  {
   "cell_type": "code",
   "execution_count": null,
   "id": "e266fc76",
   "metadata": {},
   "outputs": [],
   "source": [
    "def export_dataset(df: pd.DataFrame, path: str, include_index: bool = False) -> None:\n",
    "\n",
    "    '''\n",
    "    Export the DataFrame to a CSV file.\n",
    "\n",
    "    Parameters:\n",
    "    df (pd.DataFrame): The DataFrame to export.\n",
    "    path (str): The file path where to save the CSV.\n",
    "    include_index (bool): Whether to include the index in the CSV file (default False).\n",
    "\n",
    "    Returns:\n",
    "    None: This function prints status messages but does not return a value.\n",
    "    '''\n",
    "    \n",
    "    if not isinstance(path, str):\n",
    "        raise ValueError(\"The path must be a string.\")\n",
    "\n",
    "    try:\n",
    "        df.to_csv(path, index=include_index)\n",
    "        print(f\"Data exported successfully to {path}\")\n",
    "    except Exception as e:\n",
    "        print(f\"Error exporting data: {e}\")"
   ]
  },
  {
   "cell_type": "code",
   "execution_count": 19,
   "id": "7d244b54",
   "metadata": {},
   "outputs": [],
   "source": [
    "def time_plots(df: pd.DataFrame, features: list = [None]) -> None:\n",
    "\n",
    "    '''\n",
    "    Display subplot of temporal variables.\n",
    "\n",
    "    Parameter:\n",
    "        - df: pd.DataFrame\n",
    "        - features: a list. By default: None\n",
    "\n",
    "    Returns:\n",
    "        - None\n",
    "    '''\n",
    "    fig, ax = plt.subplots(len(features), 1, figsize = (10, 6), sharex = True) #sharex = True is for sahering \n",
    "    # x axis\n",
    "\n",
    "    for i, var in enumerate(features):\n",
    "        ax[i].plot(train['date'], train[var], label = var)\n",
    "        ax[i].legend(loc = \"upper right\")\n",
    "        ax[i].set_ylabel(var)\n",
    "\n",
    "    # for the last subplot\n",
    "    ax[-1].set_xlabel(\"Date\")\n",
    "\n",
    "    plt.tight_layout() # Avoid overlapping\n",
    "    plt.show()"
   ]
  },
  {
   "cell_type": "markdown",
   "id": "2547eaca",
   "metadata": {},
   "source": [
    "## **Import dataset**"
   ]
  },
  {
   "cell_type": "code",
   "execution_count": 5,
   "id": "08973dd9",
   "metadata": {},
   "outputs": [
    {
     "data": {
      "text/html": [
       "<div>\n",
       "<style scoped>\n",
       "    .dataframe tbody tr th:only-of-type {\n",
       "        vertical-align: middle;\n",
       "    }\n",
       "\n",
       "    .dataframe tbody tr th {\n",
       "        vertical-align: top;\n",
       "    }\n",
       "\n",
       "    .dataframe thead th {\n",
       "        text-align: right;\n",
       "    }\n",
       "</style>\n",
       "<table border=\"1\" class=\"dataframe\">\n",
       "  <thead>\n",
       "    <tr style=\"text-align: right;\">\n",
       "      <th></th>\n",
       "      <th>date</th>\n",
       "      <th>price_usd</th>\n",
       "      <th>market_cap</th>\n",
       "      <th>volume</th>\n",
       "      <th>change</th>\n",
       "    </tr>\n",
       "  </thead>\n",
       "  <tbody>\n",
       "    <tr>\n",
       "      <th>0</th>\n",
       "      <td>2025-02-05</td>\n",
       "      <td>571.03</td>\n",
       "      <td>8.327533e+10</td>\n",
       "      <td>1.241403e+09</td>\n",
       "      <td>-2.180040</td>\n",
       "    </tr>\n",
       "    <tr>\n",
       "      <th>1</th>\n",
       "      <td>2025-02-06</td>\n",
       "      <td>580.05</td>\n",
       "      <td>8.457818e+10</td>\n",
       "      <td>4.711889e+08</td>\n",
       "      <td>1.491920</td>\n",
       "    </tr>\n",
       "    <tr>\n",
       "      <th>2</th>\n",
       "      <td>2025-02-07</td>\n",
       "      <td>586.11</td>\n",
       "      <td>8.556300e+10</td>\n",
       "      <td>1.075487e+09</td>\n",
       "      <td>1.422947</td>\n",
       "    </tr>\n",
       "    <tr>\n",
       "      <th>3</th>\n",
       "      <td>2025-02-08</td>\n",
       "      <td>NaN</td>\n",
       "      <td>NaN</td>\n",
       "      <td>NaN</td>\n",
       "      <td>NaN</td>\n",
       "    </tr>\n",
       "    <tr>\n",
       "      <th>4</th>\n",
       "      <td>2025-02-09</td>\n",
       "      <td>NaN</td>\n",
       "      <td>NaN</td>\n",
       "      <td>NaN</td>\n",
       "      <td>NaN</td>\n",
       "    </tr>\n",
       "  </tbody>\n",
       "</table>\n",
       "</div>"
      ],
      "text/plain": [
       "        date  price_usd    market_cap        volume    change\n",
       "0 2025-02-05     571.03  8.327533e+10  1.241403e+09 -2.180040\n",
       "1 2025-02-06     580.05  8.457818e+10  4.711889e+08  1.491920\n",
       "2 2025-02-07     586.11  8.556300e+10  1.075487e+09  1.422947\n",
       "3 2025-02-08        NaN           NaN           NaN       NaN\n",
       "4 2025-02-09        NaN           NaN           NaN       NaN"
      ]
     },
     "execution_count": 5,
     "metadata": {},
     "output_type": "execute_result"
    }
   ],
   "source": [
    "binance = pd.read_csv(\"../data/raw/binancecoin.csv\")\n",
    "binance['date'] = pd.to_datetime(binance['date'])\n",
    "binance.head()"
   ]
  },
  {
   "cell_type": "markdown",
   "id": "c1a1f944",
   "metadata": {},
   "source": [
    "## **Data description**"
   ]
  },
  {
   "cell_type": "code",
   "execution_count": 6,
   "id": "1a48c11d",
   "metadata": {},
   "outputs": [
    {
     "data": {
      "text/plain": [
       "(136, 5)"
      ]
     },
     "execution_count": 6,
     "metadata": {},
     "output_type": "execute_result"
    }
   ],
   "source": [
    "binance.shape"
   ]
  },
  {
   "cell_type": "code",
   "execution_count": 7,
   "id": "85f1a715",
   "metadata": {},
   "outputs": [
    {
     "data": {
      "text/plain": [
       "Index(['date', 'price_usd', 'market_cap', 'volume', 'change'], dtype='object')"
      ]
     },
     "execution_count": 7,
     "metadata": {},
     "output_type": "execute_result"
    }
   ],
   "source": [
    "binance.columns"
   ]
  },
  {
   "cell_type": "code",
   "execution_count": 8,
   "id": "3a2a88f6",
   "metadata": {},
   "outputs": [
    {
     "name": "stdout",
     "output_type": "stream",
     "text": [
      "<class 'pandas.core.frame.DataFrame'>\n",
      "RangeIndex: 136 entries, 0 to 135\n",
      "Data columns (total 5 columns):\n",
      " #   Column      Non-Null Count  Dtype         \n",
      "---  ------      --------------  -----         \n",
      " 0   date        136 non-null    datetime64[ns]\n",
      " 1   price_usd   92 non-null     float64       \n",
      " 2   market_cap  92 non-null     float64       \n",
      " 3   volume      92 non-null     float64       \n",
      " 4   change      92 non-null     float64       \n",
      "dtypes: datetime64[ns](1), float64(4)\n",
      "memory usage: 5.4 KB\n"
     ]
    }
   ],
   "source": [
    "binance.info()"
   ]
  },
  {
   "cell_type": "markdown",
   "id": "f7f079f2",
   "metadata": {},
   "source": [
    "## **EDA for all dataset**"
   ]
  },
  {
   "cell_type": "code",
   "execution_count": 9,
   "id": "c9c2ab0b",
   "metadata": {},
   "outputs": [
    {
     "data": {
      "text/plain": [
       "np.int64(0)"
      ]
     },
     "execution_count": 9,
     "metadata": {},
     "output_type": "execute_result"
    }
   ],
   "source": [
    "binance.duplicated().sum()"
   ]
  },
  {
   "cell_type": "code",
   "execution_count": 10,
   "id": "12817731",
   "metadata": {},
   "outputs": [
    {
     "data": {
      "text/plain": [
       "date           0\n",
       "price_usd     44\n",
       "market_cap    44\n",
       "volume        44\n",
       "change        44\n",
       "dtype: int64"
      ]
     },
     "execution_count": 10,
     "metadata": {},
     "output_type": "execute_result"
    }
   ],
   "source": [
    "binance.isna().sum()"
   ]
  },
  {
   "cell_type": "markdown",
   "id": "515e1a8d",
   "metadata": {},
   "source": [
    "These NAs is due to days that I don't collect data. We can impute these data depending on the day. If we have a NA but the next day we have a data, we can impute the value of y using change. The rest of data must be imputed using a metrics or imputer."
   ]
  },
  {
   "cell_type": "code",
   "execution_count": 11,
   "id": "9c90697e",
   "metadata": {},
   "outputs": [],
   "source": [
    "binance_filled = fill_missing_prices(binance)"
   ]
  },
  {
   "cell_type": "code",
   "execution_count": 12,
   "id": "7c8fb7b6",
   "metadata": {},
   "outputs": [],
   "source": [
    "binance_filled = full_rest_variables(binance_filled)"
   ]
  },
  {
   "cell_type": "code",
   "execution_count": 13,
   "id": "a92fe727",
   "metadata": {},
   "outputs": [
    {
     "data": {
      "text/plain": [
       "date          0\n",
       "price_usd     0\n",
       "market_cap    0\n",
       "volume        0\n",
       "dtype: int64"
      ]
     },
     "execution_count": 13,
     "metadata": {},
     "output_type": "execute_result"
    }
   ],
   "source": [
    "binance_filled.isna().sum()"
   ]
  },
  {
   "cell_type": "markdown",
   "id": "3eca9dc4",
   "metadata": {},
   "source": [
    "## **Export dataframe**"
   ]
  },
  {
   "cell_type": "code",
   "execution_count": 22,
   "id": "25b9b8fc",
   "metadata": {},
   "outputs": [
    {
     "name": "stdout",
     "output_type": "stream",
     "text": [
      "Data exported successfully to ../data/processed/binance_cleared.csv\n"
     ]
    }
   ],
   "source": [
    "export_dataset(binance_filled, \"../data/processed/binance_cleared.csv\", include_index = False)"
   ]
  }
 ],
 "metadata": {
  "kernelspec": {
   "display_name": "venv",
   "language": "python",
   "name": "python3"
  },
  "language_info": {
   "codemirror_mode": {
    "name": "ipython",
    "version": 3
   },
   "file_extension": ".py",
   "mimetype": "text/x-python",
   "name": "python",
   "nbconvert_exporter": "python",
   "pygments_lexer": "ipython3",
   "version": "3.12.6"
  }
 },
 "nbformat": 4,
 "nbformat_minor": 5
}
